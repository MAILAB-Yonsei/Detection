{
 "cells": [
  {
   "cell_type": "code",
   "execution_count": 13,
   "metadata": {},
   "outputs": [
    {
     "name": "stdout",
     "output_type": "stream",
     "text": [
      "Enabling notebook extension jupyter-js-widgets/extension...\n",
      "      - Validating: \u001b[32mOK\u001b[0m\n"
     ]
    }
   ],
   "source": [
    "!pip install ipywidgets\n",
    "!jupyter nbextension enable --py widgetsnbextension"
   ]
  },
  {
   "cell_type": "code",
   "execution_count": 14,
   "metadata": {},
   "outputs": [],
   "source": [
    "import numpy as np # linear algebra\n",
    "import pandas as pd # data processing, CSV file I/O (e.g. pd.read_csv)\n",
    "import os\n",
    "import seaborn as sns\n",
    "from pathlib import Path\n",
    "import base64\n",
    "import cv2\n",
    "import matplotlib.pyplot as plt\n",
    "import json \n",
    "from tqdm.notebook import tqdm \n",
    "import scipy \n",
    "from ipywidgets import IntProgress\n",
    "from joblib import Parallel , delayed"
   ]
  },
  {
   "cell_type": "code",
   "execution_count": 8,
   "metadata": {},
   "outputs": [
    {
     "name": "stdout",
     "output_type": "stream",
     "text": [
      "6262\n",
      "56360\n",
      "20874\n"
     ]
    }
   ],
   "source": [
    "IMG_SIZE = 576\n",
    "\n",
    "#다운받은 데이터 경로(train,valid 9:1로 분할된 데이터)\n",
    "base_path = Path('/mnt/data2/DATA/DACON/original')\n",
    "train_path = list((base_path /'train').glob('train*'))\n",
    "valid_path = list((base_path /'valid').glob('train*')) \n",
    "test_path = list((base_path / 'test').glob('test*'))\n",
    "\n",
    "print(len(valid_path))\n",
    "print(len(train_path))\n",
    "print(len(test_path))"
   ]
  },
  {
   "cell_type": "code",
   "execution_count": 9,
   "metadata": {},
   "outputs": [
    {
     "data": {
      "text/html": [
       "<div>\n",
       "<style scoped>\n",
       "    .dataframe tbody tr th:only-of-type {\n",
       "        vertical-align: middle;\n",
       "    }\n",
       "\n",
       "    .dataframe tbody tr th {\n",
       "        vertical-align: top;\n",
       "    }\n",
       "\n",
       "    .dataframe thead th {\n",
       "        text-align: right;\n",
       "    }\n",
       "</style>\n",
       "<table border=\"1\" class=\"dataframe\">\n",
       "  <thead>\n",
       "    <tr style=\"text-align: right;\">\n",
       "      <th></th>\n",
       "      <th>class</th>\n",
       "      <th>class_id</th>\n",
       "    </tr>\n",
       "  </thead>\n",
       "  <tbody>\n",
       "    <tr>\n",
       "      <th>0</th>\n",
       "      <td>01_ulcer</td>\n",
       "      <td>1</td>\n",
       "    </tr>\n",
       "    <tr>\n",
       "      <th>1</th>\n",
       "      <td>02_mass</td>\n",
       "      <td>2</td>\n",
       "    </tr>\n",
       "    <tr>\n",
       "      <th>2</th>\n",
       "      <td>04_lymph</td>\n",
       "      <td>3</td>\n",
       "    </tr>\n",
       "    <tr>\n",
       "      <th>3</th>\n",
       "      <td>05_bleeding</td>\n",
       "      <td>4</td>\n",
       "    </tr>\n",
       "  </tbody>\n",
       "</table>\n",
       "</div>"
      ],
      "text/plain": [
       "         class  class_id\n",
       "0     01_ulcer         1\n",
       "1      02_mass         2\n",
       "2     04_lymph         3\n",
       "3  05_bleeding         4"
      ]
     },
     "execution_count": 9,
     "metadata": {},
     "output_type": "execute_result"
    }
   ],
   "source": [
    "label_info = pd.read_csv((base_path /'class_id_info.csv'))\n",
    "categories = {i[0]:i[1]-1 for i in label_info.to_numpy()}\n",
    "label_info"
   ]
  },
  {
   "cell_type": "code",
   "execution_count": 10,
   "metadata": {},
   "outputs": [],
   "source": [
    "def xyxy2coco(xyxy):\n",
    "    x1,y1,x2,y2 =xyxy\n",
    "    w,h =  x2-x1, y2-y1\n",
    "    return [x1,y1,w,h] \n",
    "\n",
    "def xyxy2yolo(xyxy):\n",
    "    \n",
    "    x1,y1,x2,y2 =xyxy\n",
    "    w,h =  x2-x1, y2-y1\n",
    "    xc = x1 + int(np.round(w/2)) # xmin + width/2\n",
    "    yc = y1 + int(np.round(h/2)) # ymin + height/2\n",
    "    return [xc/IMG_SIZE,yc/IMG_SIZE,w/IMG_SIZE,h/IMG_SIZE] \n",
    "\n",
    "def scale_bbox(img, xyxy):\n",
    "    # Get scaling factor\n",
    "    scale_x = IMG_SIZE/img.shape[1]\n",
    "    scale_y = IMG_SIZE/img.shape[0]\n",
    "    \n",
    "    x1,y1,x2,y2 =xyxy\n",
    "    x1 = int(np.round(x1*scale_x, 4))\n",
    "    y1 = int(np.round(y1*scale_y, 4))\n",
    "    x2 = int(np.round(x2*scale_x, 4))\n",
    "    y2= int(np.round(y2*scale_y, 4))\n",
    "\n",
    "    return [x1, y1, x2, y2] # xmin, ymin, xmax, ymax\n",
    "\n",
    "def save_image_label(json_file,mode,new_image_path,new_label_path): \n",
    "    with open(json_file,'r') as f: \n",
    "        json_file =json.load(f)\n",
    "\n",
    "    image_id = json_file['file_name'].replace('.json','')\n",
    "    \n",
    "    # decode image data\n",
    "    image = np.frombuffer(base64.b64decode(json_file['imageData']), np.uint8)\n",
    "    image = cv2.imdecode(image, cv2.IMREAD_COLOR)\n",
    "    cv2.imwrite(str(new_image_path / (image_id + '.png')) ,image)\n",
    "    \n",
    "    # extract bbox\n",
    "    origin_bbox = []\n",
    "    if mode == 'train':\n",
    "        with open(new_label_path / (image_id + '.txt'), 'w') as f:\n",
    "            for i in json_file['shapes']: \n",
    "                bbox = i['points'][0] + i['points'][2]\n",
    "                origin_bbox.append(bbox)\n",
    "                bbox = scale_bbox(image,bbox)\n",
    "                bbox = xyxy2yolo(bbox)\n",
    "                \n",
    "                labels = [categories[i['label']]]+bbox\n",
    "                f.writelines([f'{i} ' for i in labels] + ['\\n'])\n",
    "        \n",
    "    return origin_bbox"
   ]
  },
  {
   "cell_type": "code",
   "execution_count": 12,
   "metadata": {},
   "outputs": [
    {
     "data": {
      "application/vnd.jupyter.widget-view+json": {
       "model_id": "1e78a5e6fa4849aa93a539e183b74ff5",
       "version_major": 2,
       "version_minor": 0
      },
      "text/plain": [
       "  0%|          | 0/56360 [00:00<?, ?it/s]"
      ]
     },
     "metadata": {},
     "output_type": "display_data"
    }
   ],
   "source": [
    "import multiprocessing as mp \n",
    "import os\n",
    "\n",
    "os.makedirs('./Data/DACON/yolo',exist_ok=True)\n",
    "os.makedirs('./Data/DACON/yolo/images/train',exist_ok=True)\n",
    "os.makedirs('./Data/DACON/yolo/labels/train',exist_ok=True)\n",
    "os.makedirs('./Data/DACON/yolo/images/valid',exist_ok=True)\n",
    "os.makedirs('./Data/DACON/yolo/labels/valid',exist_ok=True)\n",
    "os.makedirs('./Data/DACON/yolo/images/test',exist_ok=True)\n",
    "\n",
    "#for train set\n",
    "# 저장할 파일 경로\n",
    "save_path = Path('./Data/DACON/yolo')\n",
    "new_image_path = save_path / 'images/train' # image폴더 \n",
    "new_label_path = save_path / 'labels/train' # label폴더\n",
    "\n",
    "new_image_path.mkdir(parents=True,exist_ok=True)\n",
    "new_label_path.mkdir(parents=True,exist_ok=True)\n",
    "\n",
    "# data를 생성하기 위해 mlutiprocessing 적용\n",
    "tmp = Parallel(n_jobs=mp.cpu_count(),prefer=\"threads\")(delayed(save_image_label)(str(train_json),'train',new_image_path,new_label_path) for train_json in tqdm(train_path[:]))"
   ]
  },
  {
   "cell_type": "code",
   "execution_count": 10,
   "metadata": {},
   "outputs": [
    {
     "name": "stdout",
     "output_type": "stream",
     "text": [
      "6262\n"
     ]
    },
    {
     "data": {
      "application/vnd.jupyter.widget-view+json": {
       "model_id": "7354c8c91054433a9267924e3acf8cc2",
       "version_major": 2,
       "version_minor": 0
      },
      "text/plain": [
       "  0%|          | 0/6262 [00:00<?, ?it/s]"
      ]
     },
     "metadata": {},
     "output_type": "display_data"
    }
   ],
   "source": [
    "#for valid set\n",
    "new_image_path = save_path / 'images/valid' # image폴더 \n",
    "new_label_path = save_path / 'labels/valid' # label폴더\n",
    "\n",
    "new_image_path.mkdir(parents=True,exist_ok=True)\n",
    "new_label_path.mkdir(parents=True,exist_ok=True)\n",
    "\n",
    "# data를 생성하기 위해 mlutiprocessing 적용\n",
    "tmp = Parallel(n_jobs=mp.cpu_count(),prefer=\"threads\")(delayed(save_image_label)(str(valid_json),'train',new_image_path,new_label_path) for valid_json in tqdm(valid_path[:]))"
   ]
  },
  {
   "cell_type": "code",
   "execution_count": 11,
   "metadata": {},
   "outputs": [
    {
     "data": {
      "application/vnd.jupyter.widget-view+json": {
       "model_id": "b5d6dc65e8024146a6f40c587d9e42bb",
       "version_major": 2,
       "version_minor": 0
      },
      "text/plain": [
       "  0%|          | 0/20874 [00:00<?, ?it/s]"
      ]
     },
     "metadata": {},
     "output_type": "display_data"
    }
   ],
   "source": [
    "#for test set\n",
    "\n",
    "new_image_path = save_path / 'images/test' # image폴더 \n",
    "new_label_path = save_path / 'labels' # label폴더\n",
    "\n",
    "new_image_path.mkdir(parents=True,exist_ok=True)\n",
    "# new_label_path.mkdir(parents=True,exist_ok=True)\n",
    "\n",
    "# data를 생성하기 위해 mlutiprocessing 적용\n",
    "tmp = Parallel(n_jobs=mp.cpu_count(),prefer=\"threads\")(delayed(save_image_label)(str(test_json),'test',new_image_path,new_label_path) for test_json in tqdm(test_path))\n"
   ]
  },
  {
   "cell_type": "code",
   "execution_count": 15,
   "metadata": {},
   "outputs": [],
   "source": [
    "import yaml\n",
    "\n",
    "#yaml 파일 생성\n",
    "data_yaml = dict(\n",
    "    train = ['../Data/DACON/yolo/images/train'],\n",
    "    val = ['../Data/DACON/yolo/images/valid'],\n",
    "    nc = 4,\n",
    "    names = ['01_ulcer','02_mass','04_lymph','05_bleeding']\n",
    ")\n",
    "\n",
    "with open('endoscopy.yaml', 'w') as outfile:\n",
    "    yaml.dump(data_yaml, outfile, default_flow_style=True)"
   ]
  },
  {
   "cell_type": "code",
   "execution_count": 13,
   "metadata": {},
   "outputs": [],
   "source": [
    "import yaml\n",
    "\n",
    "#yaml 파일 생성, 모든 train,valid set을 모두 training하기 위한 방법\n",
    "data_yaml = dict(\n",
    "    train = ['../Data/DACON/yolo/images/train','../Data/DACON/yolo/images/valid'],\n",
    "    val = ['../Data/DACON/yolo/images/valid'],\n",
    "    nc = 4,\n",
    "    names = ['01_ulcer','02_mass','04_lymph','05_bleeding']\n",
    ")\n",
    "\n",
    "with open('endoscopy_all.yaml', 'w') as outfile:\n",
    "    yaml.dump(data_yaml, outfile, default_flow_style=True)"
   ]
  }
 ],
 "metadata": {
  "interpreter": {
   "hash": "3e6af099d9fe8f7ba27e38fcc047344bc849477f5c875f8dc87dbc4a82f310f5"
  },
  "kernelspec": {
   "display_name": "Python 3.7.11 64-bit ('yj': conda)",
   "language": "python",
   "name": "python3"
  },
  "language_info": {
   "codemirror_mode": {
    "name": "ipython",
    "version": 3
   },
   "file_extension": ".py",
   "mimetype": "text/x-python",
   "name": "python",
   "nbconvert_exporter": "python",
   "pygments_lexer": "ipython3",
   "version": "3.8.0"
  },
  "orig_nbformat": 4
 },
 "nbformat": 4,
 "nbformat_minor": 2
}
